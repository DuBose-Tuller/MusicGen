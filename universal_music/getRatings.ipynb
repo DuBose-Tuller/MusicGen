{
 "cells": [
  {
   "cell_type": "code",
   "execution_count": 1,
   "id": "e7ecb97a",
   "metadata": {},
   "outputs": [
    {
     "name": "stdout",
     "output_type": "stream",
     "text": [
      "/home/DAVIDSON/dutuller/Workspace/DRI1/MusicGen\n"
     ]
    },
    {
     "name": "stderr",
     "output_type": "stream",
     "text": [
      "/home/DAVIDSON/dutuller/Workspace/DRI1/MusicGen/.venv/lib64/python3.9/site-packages/IPython/core/magics/osm.py:417: UserWarning: using dhist requires you to install the `pickleshare` library.\n",
      "  self.shell.db['dhist'] = compress_dhist(dhist)[-100:]\n"
     ]
    }
   ],
   "source": [
    "%cd /home/DAVIDSON/dutuller/Workspace/DRI1/MusicGen/\n",
    "\n",
    "import numpy as np;\n",
    "from embeddings.h5_processor import H5DataProcessor, DatasetConfig, ProcessedDataset, AudioSegmentSplitter;\n",
    "from pathlib import Path;\n",
    "from embeddings.models import RatingsClassifier;\n",
    "import yaml;\n",
    "from sklearn.preprocessing import StandardScaler;\n",
    "import pandas as pd"
   ]
  },
  {
   "cell_type": "code",
   "execution_count": 2,
   "id": "9f11df5c-69d7-46dc-be2f-ed02b0ba2e04",
   "metadata": {},
   "outputs": [],
   "source": [
    "# Process datasets using H5DataProcessor\n",
    "processor = H5DataProcessor()\n",
    "all_train_data = []\n",
    "all_test_data = []\n",
    "class_names = set()\n",
    "with open(\"universal_music/config.yaml\", 'r') as f:\n",
    "    config = yaml.safe_load(f)\n"
   ]
  },
  {
   "cell_type": "code",
   "execution_count": 3,
   "id": "9e11a17d",
   "metadata": {},
   "outputs": [
    {
     "name": "stdout",
     "output_type": "stream",
     "text": [
      "{'dataset': 'embeddings/NHS', 'subfolder': 'Dance/s15-t15'}\n",
      "{'dataset': 'embeddings/NHS', 'subfolder': 'Love/s15-t15'}\n",
      "{'dataset': 'embeddings/NHS', 'subfolder': 'Lullaby/s15-t15'}\n",
      "{'dataset': 'embeddings/NHS', 'subfolder': 'Healing/s15-t15'}\n"
     ]
    }
   ],
   "source": [
    "# Process each dataset and split\n",
    "for dataset_config in config['datasets']:\n",
    "    print(dataset_config)\n",
    "    \n",
    "    dataset = processor.process_h5_file(\n",
    "        processor.get_embedding_path(DatasetConfig(**dataset_config)),\n",
    "        DatasetConfig(**dataset_config)\n",
    "    )\n",
    "    \n",
    "    # Split the dataset\n",
    "    train_data, test_data = processor.get_train_test_split(\n",
    "        dataset,\n",
    "    )\n",
    "    \n",
    "    all_train_data.append(train_data)\n",
    "    all_test_data.append(test_data)\n",
    "    class_names.update(dataset.labels)\n"
   ]
  },
  {
   "cell_type": "code",
   "execution_count": 4,
   "id": "fd0aaf2a",
   "metadata": {},
   "outputs": [],
   "source": [
    "# Combine datasets\n",
    "combined_train = ProcessedDataset(\n",
    "    embeddings=np.vstack([d.embeddings for d in all_train_data]),\n",
    "    labels=[l for d in all_train_data for l in d.labels],\n",
    "    filenames=[f for d in all_train_data for f in d.filenames],\n",
    "    name=\"combined\",\n",
    "    num_samples=sum(d.num_samples for d in all_train_data)\n",
    ")\n",
    "\n",
    "combined_test = ProcessedDataset(\n",
    "    embeddings=np.vstack([d.embeddings for d in all_test_data]),\n",
    "    labels=[l for d in all_test_data for l in d.labels],\n",
    "    filenames=[f for d in all_test_data for f in d.filenames],\n",
    "    name=\"combined\",\n",
    "    num_samples=sum(d.num_samples for d in all_test_data)\n",
    ")\n"
   ]
  },
  {
   "cell_type": "code",
   "execution_count": 5,
   "id": "0722d42f",
   "metadata": {},
   "outputs": [],
   "source": [
    "# Create and configure model\n",
    "model = RatingsClassifier(max_iter=1000)"
   ]
  },
  {
   "cell_type": "code",
   "execution_count": 6,
   "id": "f19b55b1",
   "metadata": {},
   "outputs": [],
   "source": [
    "# Scaling\n",
    "unique_labels = sorted(set(combined_train.labels + combined_test.labels))\n",
    "label_to_idx = {label: idx for idx, label in enumerate(unique_labels)}\n",
    "\n",
    "X_train = combined_train.embeddings\n",
    "y_train = np.array([label_to_idx[label] for label in combined_train.labels])\n",
    "X_test = combined_test.embeddings\n",
    "y_test = np.array([label_to_idx[label] for label in combined_test.labels])\n",
    "\n",
    "scaler = StandardScaler()\n",
    "X_train_scaled = scaler.fit_transform(X_train)\n",
    "X_test_scaled = scaler.transform(X_test)"
   ]
  },
  {
   "cell_type": "markdown",
   "id": "a7eb2211",
   "metadata": {},
   "source": [
    "Here, we need to replace the ground truth song function with human labels for training."
   ]
  },
  {
   "cell_type": "code",
   "execution_count": null,
   "id": "dc10e597",
   "metadata": {},
   "outputs": [],
   "source": [
    "df = pd.read_csv('universal_music/FFfull.csv', low_memory=False)\n",
    "\n",
    "web_df = df[df['study'] == 'web'].copy()\n",
    "field_df = df[df['study'] == 'field'].copy()\n",
    "\n",
    "# Get ratings and normalize\n",
    "web_ratings = web_df[[\"song\",\"danc\",\"heal\",\"baby\",\"love\"]] "
   ]
  },
  {
   "cell_type": "code",
   "execution_count": 19,
   "id": "1eb43df1",
   "metadata": {},
   "outputs": [
    {
     "data": {
      "text/plain": [
       "<embeddings.models.RatingsClassifier at 0x152b0c626af0>"
      ]
     },
     "execution_count": 19,
     "metadata": {},
     "output_type": "execute_result"
    }
   ],
   "source": [
    "# Training\n",
    "model.fit(X_train_scaled, y_train)"
   ]
  },
  {
   "cell_type": "code",
   "execution_count": 20,
   "id": "9d90630b",
   "metadata": {},
   "outputs": [],
   "source": [
    "# Predicting ratings on the test set\n",
    "pred_ratings = model.predict_ratings(X_test_scaled)"
   ]
  },
  {
   "cell_type": "markdown",
   "id": "c1656887",
   "metadata": {},
   "source": [
    "The ratings are all either 0 or 3, and not every row even has a rating other than 0."
   ]
  },
  {
   "cell_type": "code",
   "execution_count": 11,
   "id": "f37da9a9",
   "metadata": {},
   "outputs": [],
   "source": [
    "# Save them to a file to be read by violins.ipynb"
   ]
  }
 ],
 "metadata": {
  "kernelspec": {
   "display_name": ".venv",
   "language": "python",
   "name": "python3"
  },
  "language_info": {
   "codemirror_mode": {
    "name": "ipython",
    "version": 3
   },
   "file_extension": ".py",
   "mimetype": "text/x-python",
   "name": "python",
   "nbconvert_exporter": "python",
   "pygments_lexer": "ipython3",
   "version": "3.9.20"
  }
 },
 "nbformat": 4,
 "nbformat_minor": 5
}
