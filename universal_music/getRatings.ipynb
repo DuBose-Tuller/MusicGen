{
 "cells": [
  {
   "cell_type": "code",
   "execution_count": null,
   "id": "9f11df5c-69d7-46dc-be2f-ed02b0ba2e04",
   "metadata": {},
   "outputs": [],
   "source": [
    "# Process datasets using H5DataProcessor\n",
    "processor = H5DataProcessor(verbose=args.verbose)\n",
    "all_train_data = []\n",
    "all_test_data = []\n",
    "class_names = set()\n",
    "\n",
    "# Process each dataset and split\n",
    "for dataset_config in config['datasets']:\n",
    "    if args.verbose:\n",
    "        print(f\"\\nProcessing dataset: {dataset_config['dataset']}\")\n",
    "    \n",
    "    dataset = processor.process_h5_file(\n",
    "        processor.get_embedding_path(DatasetConfig(**dataset_config)),\n",
    "        DatasetConfig(**dataset_config)\n",
    "    )\n",
    "    \n",
    "    # Split the dataset\n",
    "    train_data, test_data = processor.get_train_test_split(\n",
    "        dataset, \n",
    "        test_ratio=args.test_ratio,\n",
    "        random_seed=args.random_seed\n",
    "    )\n",
    "    \n",
    "    all_train_data.append(train_data)\n",
    "    all_test_data.append(test_data)\n",
    "    class_names.update(dataset.labels)\n",
    "\n",
    "# Combine datasets\n",
    "combined_train = ProcessedDataset(\n",
    "    embeddings=np.vstack([d.embeddings for d in all_train_data]),\n",
    "    labels=[l for d in all_train_data for l in d.labels],\n",
    "    filenames=[f for d in all_train_data for f in d.filenames],\n",
    "    name=\"combined\",\n",
    "    num_samples=sum(d.num_samples for d in all_train_data)\n",
    ")\n",
    "\n",
    "combined_test = ProcessedDataset(\n",
    "    embeddings=np.vstack([d.embeddings for d in all_test_data]),\n",
    "    labels=[l for d in all_test_data for l in d.labels],\n",
    "    filenames=[f for d in all_test_data for f in d.filenames],\n",
    "    name=\"combined\",\n",
    "    num_samples=sum(d.num_samples for d in all_test_data)\n",
    ")\n",
    "\n",
    "# Create and configure model\n",
    "model = RatingsClassifier(max_iter=1000, l1_penalty=0.1)\n",
    "model_config = get_model_config(model)\n",
    "\n",
    "# Train and evaluate model\n",
    "conf_matrix, metrics = train_evaluate_model(combined_train, combined_test, model, args.verbose)"
   ]
  }
 ],
 "metadata": {
  "kernelspec": {
   "display_name": "Python 3.10",
   "language": "python",
   "name": "python-3.10"
  },
  "language_info": {
   "codemirror_mode": {
    "name": "ipython",
    "version": 3
   },
   "file_extension": ".py",
   "mimetype": "text/x-python",
   "name": "python",
   "nbconvert_exporter": "python",
   "pygments_lexer": "ipython3",
   "version": "3.10.4"
  }
 },
 "nbformat": 4,
 "nbformat_minor": 5
}
