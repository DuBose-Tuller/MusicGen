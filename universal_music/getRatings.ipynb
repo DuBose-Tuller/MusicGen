{
 "cells": [
  {
   "cell_type": "code",
   "execution_count": 12,
   "id": "e7ecb97a",
   "metadata": {},
   "outputs": [
    {
     "name": "stdout",
     "output_type": "stream",
     "text": [
      "/home/DAVIDSON/dutuller/Workspace/DRI1/MusicGen\n"
     ]
    }
   ],
   "source": [
    "%cd /home/DAVIDSON/dutuller/Workspace/DRI1/MusicGen/\n",
    "\n",
    "import numpy as np;\n",
    "from embeddings.h5_processor import H5DataProcessor, DatasetConfig, ProcessedDataset, AudioSegmentSplitter;\n",
    "from sklearn.preprocessing import StandardScaler;\n",
    "from sklearn.model_selection import train_test_split\n",
    "import pandas as pd;\n",
    "from universal_music.models import RatingsClassifier;"
   ]
  },
  {
   "cell_type": "code",
   "execution_count": 10,
   "id": "9e11a17d",
   "metadata": {},
   "outputs": [],
   "source": [
    "# Process datasets using H5DataProcessor\n",
    "processor = H5DataProcessor()\n",
    "\n",
    "config = {\n",
    "    'dataset': 'embeddings/NHS',\n",
    "    'subfolder': 'samples/wav'\n",
    "}\n",
    "\n",
    "dataset = processor.process_h5_file(\n",
    "    processor.get_embedding_path(DatasetConfig(**config)),\n",
    "    DatasetConfig(**config)\n",
    ")\n"
   ]
  },
  {
   "cell_type": "code",
   "execution_count": 3,
   "id": "12489d6a",
   "metadata": {},
   "outputs": [],
   "source": [
    "embeddings = dataset.embeddings\n",
    "filenames = dataset.filenames\n",
    "\n",
    "df = pd.read_csv('universal_music/FFfull.csv', low_memory=False)\n",
    "\n",
    "web_df = df[df['study'] == 'web'].copy()\n",
    "field_df = df[df['study'] == 'field'].copy()\n",
    "\n",
    "song_functions = df.groupby(\"song\").agg({'songfunction': 'first'})\n",
    "\n",
    "# Get ratings and normalize\n",
    "web_ratings = web_df[[\"song\",\"danc\",\"heal\",\"baby\",\"love\"]]"
   ]
  },
  {
   "cell_type": "code",
   "execution_count": 4,
   "id": "496b8dce",
   "metadata": {},
   "outputs": [],
   "source": [
    "import numpy as np\n",
    "import pandas as pd\n",
    "import re\n",
    "\n",
    "# Function to extract song ID from filename\n",
    "def extract_song_id(filename):\n",
    "    # Extract the base filename\n",
    "    base_name = filename.split('/')[-1]\n",
    "    # Extract numbers from filename\n",
    "    match = re.search(r'(\\d+)', base_name)\n",
    "    if match:\n",
    "        return int(match.group(1))\n",
    "    return None\n",
    "\n",
    "# Create a mapping from filename to embedding index\n",
    "filename_to_idx = {name: idx for idx, name in enumerate(filenames)}\n",
    "\n",
    "# Extract song IDs from filenames\n",
    "song_ids = [extract_song_id(filename) for filename in filenames]\n",
    "\n",
    "# Create a mapping from song ID to embedding index\n",
    "song_id_to_idx = {song_id: idx for idx, song_id in enumerate(song_ids) if song_id is not None}\n",
    "\n",
    "# Get all ratings (each row is a rating by one participant for one song)\n",
    "ratings_df = web_df[[\"song\", \"danc\", \"heal\", \"baby\", \"love\"]]\n",
    "\n",
    "# Create X and y matrices\n",
    "X_list = []\n",
    "y_list = []\n",
    "\n",
    "# For each rating entry\n",
    "for _, row in ratings_df.iterrows():\n",
    "    song_id = row['song']\n",
    "    \n",
    "    # Check if we have an embedding for this song\n",
    "    if song_id in song_id_to_idx:\n",
    "        embedding_idx = song_id_to_idx[song_id]\n",
    "        embedding = embeddings[embedding_idx]\n",
    "        \n",
    "        # Add this embedding to X\n",
    "        X_list.append(embedding)\n",
    "        \n",
    "        # Add corresponding ratings to y\n",
    "        y_list.append([\n",
    "            row['danc'],\n",
    "            row['heal'],\n",
    "            row['baby'],\n",
    "            row['love']\n",
    "        ])\n",
    "\n",
    "# Convert lists to arrays\n",
    "X = np.array(X_list)\n",
    "y = np.array(y_list)"
   ]
  },
  {
   "cell_type": "code",
   "execution_count": 16,
   "id": "0722d42f",
   "metadata": {},
   "outputs": [],
   "source": [
    "# Create and configure model\n",
    "model = RatingsClassifier(max_iter=10)"
   ]
  },
  {
   "cell_type": "code",
   "execution_count": 14,
   "id": "f19b55b1",
   "metadata": {},
   "outputs": [],
   "source": [
    "X_train, X_test, y_train, y_test = train_test_split(X, y, test_size=0.2)\n",
    "\n",
    "scaler = StandardScaler()\n",
    "X_train_scaled = scaler.fit_transform(X_train)\n",
    "X_test_scaled = scaler.transform(X_test)"
   ]
  },
  {
   "cell_type": "code",
   "execution_count": 17,
   "id": "1eb43df1",
   "metadata": {},
   "outputs": [
    {
     "name": "stderr",
     "output_type": "stream",
     "text": [
      "Loss: 5.7236: 100%|██████████| 10/10 [00:28<00:00,  2.85s/it]\n"
     ]
    },
    {
     "data": {
      "text/plain": [
       "<universal_music.models.RatingsClassifier at 0x1499f04ec3a0>"
      ]
     },
     "execution_count": 17,
     "metadata": {},
     "output_type": "execute_result"
    }
   ],
   "source": [
    "# Training\n",
    "model.fit(X_train_scaled, y_train, verbose=True)"
   ]
  },
  {
   "cell_type": "code",
   "execution_count": 18,
   "id": "9d90630b",
   "metadata": {},
   "outputs": [],
   "source": [
    "# Predicting ratings on the test set\n",
    "pred_ratings = model.predict_ratings(X_test_scaled)"
   ]
  }
 ],
 "metadata": {
  "kernelspec": {
   "display_name": ".venv",
   "language": "python",
   "name": "python3"
  },
  "language_info": {
   "codemirror_mode": {
    "name": "ipython",
    "version": 3
   },
   "file_extension": ".py",
   "mimetype": "text/x-python",
   "name": "python",
   "nbconvert_exporter": "python",
   "pygments_lexer": "ipython3",
   "version": "3.9.20"
  }
 },
 "nbformat": 4,
 "nbformat_minor": 5
}
