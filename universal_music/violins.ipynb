{
 "cells": [
  {
   "cell_type": "code",
   "execution_count": null,
   "id": "98cd87ce-e5b5-4e1d-81d1-47a920fec918",
   "metadata": {},
   "outputs": [],
   "source": [
    "import numpy as np\n",
    "import matplotlib.pyplot as plt\n",
    "import pandas as pd\n",
    "import seaborn as sns"
   ]
  },
  {
   "cell_type": "markdown",
   "id": "c1704d05",
   "metadata": {},
   "source": [
    "### Preprocessing\n",
    "\n",
    "1. Separate data into web and field surveys\n",
    "2. Get a list of the songs (by id) and what their ground truth function is: `song_functions`\n",
    "3. Group all of the ratings for each song together (while still keeping each of the four primary rating categories separate). The result is a $4 \\times s$ matrix with the average rating of each song in each of the categories, where $s$ is the total number of songs."
   ]
  },
  {
   "cell_type": "code",
   "execution_count": null,
   "id": "6a40f0df-7e95-4e8c-847d-ee8805229212",
   "metadata": {},
   "outputs": [],
   "source": [
    "df = pd.read_csv('FFfull.csv', low_memory=False)\n",
    "\n",
    "web_df = df[df['study'] == 'web'].copy()\n",
    "field_df = df[df['study'] == 'field'].copy()\n",
    "\n",
    "song_functions = df.groupby(\"song\").agg({'songfunction': 'first'})\n",
    "\n",
    "# Get ratings and normalize\n",
    "web_ratings = web_df[[\"song\",\"danc\",\"heal\",\"baby\",\"love\"]]  # Removed distractor columns\n",
    "average_by_song = web_ratings.groupby('song').mean()\n",
    "normalized_ratings = (average_by_song - average_by_song.mean()) / average_by_song.std()"
   ]
  },
  {
   "cell_type": "code",
   "execution_count": null,
   "id": "c695acba",
   "metadata": {},
   "outputs": [],
   "source": [
    "# Get indices for each song type\n",
    "baby_idx = song_functions[song_functions['songfunction'] == 'baby'].index\n",
    "love_idx = song_functions[song_functions['songfunction'] == 'love'].index\n",
    "heal_idx = song_functions[song_functions['songfunction'] == 'heal'].index\n",
    "danc_idx = song_functions[song_functions['songfunction'] == 'danc'].index\n",
    "\n",
    "def plot_violin_half(ax, function, side):\n",
    "    # For love song dimension\n",
    "    ratings = [\n",
    "        normalized_ratings.loc[danc_idx, function],\n",
    "        normalized_ratings.loc[heal_idx, function],\n",
    "        normalized_ratings.loc[love_idx, function],\n",
    "        normalized_ratings.loc[baby_idx, function]\n",
    "    ]\n",
    "    ax.violinplot(ratings, side=side, points=100)\n",
    "    ax.set_xticks(range(1, 5))\n",
    "    ax.set_xticklabels(['dance', 'heal', 'love', 'lully'])\n",
    "    ax.set_title(f'Ratings on {function} dimension')\n",
    "    ax.axhline(y=0, color='gray', linestyle='--', alpha=0.5)"
   ]
  },
  {
   "cell_type": "code",
   "execution_count": null,
   "id": "58c4761b-33a7-446e-b400-9563bb8144f5",
   "metadata": {},
   "outputs": [],
   "source": [
    "fig, ((ax1, ax2), (ax3, ax4)) = plt.subplots(2, 2, figsize=(12, 10))\n",
    "\n",
    "plot_violin_half(ax1, \"danc\", \"low\")\n",
    "plot_violin_half(ax2, \"heal\", \"low\")\n",
    "plot_violin_half(ax3, \"love\", \"low\")\n",
    "plot_violin_half(ax4, \"baby\", \"low\")\n",
    "\n"
   ]
  },
  {
   "cell_type": "code",
   "execution_count": null,
   "id": "668fcc8f-65b7-43cd-b079-6aa7a003d518",
   "metadata": {},
   "outputs": [],
   "source": []
  }
 ],
 "metadata": {
  "kernelspec": {
   "display_name": ".venv",
   "language": "python",
   "name": "python3"
  },
  "language_info": {
   "codemirror_mode": {
    "name": "ipython",
    "version": 3
   },
   "file_extension": ".py",
   "mimetype": "text/x-python",
   "name": "python",
   "nbconvert_exporter": "python",
   "pygments_lexer": "ipython3",
   "version": "3.9.20"
  }
 },
 "nbformat": 4,
 "nbformat_minor": 5
}
