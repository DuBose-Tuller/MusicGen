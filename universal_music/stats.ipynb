{
 "cells": [
  {
   "cell_type": "code",
   "execution_count": 1,
   "id": "6d7763ab-e547-49f5-975e-5b20667f00fb",
   "metadata": {},
   "outputs": [],
   "source": [
    "import pandas as pd\n",
    "import numpy as np"
   ]
  },
  {
   "cell_type": "code",
   "execution_count": null,
   "id": "caf7f2b5",
   "metadata": {},
   "outputs": [],
   "source": [
    "df = pd.read_csv('FFfull.csv', low_memory=False)\n",
    "\n",
    "web_df = df[df['study'] == 'web'].copy()\n",
    "field_df = df[df['study'] == 'field'].copy()\n",
    "\n",
    "song_functions = df.groupby(\"song\").agg({'songfunction': 'first'})\n",
    "\n",
    "# Get ratings and normalize\n",
    "web_ratings = web_df[[\"song\",\"danc\",\"heal\",\"baby\",\"love\", \"\"]]\n",
    "average_by_song = web_ratings.groupby('song').mean()\n",
    "normalized_ratings = (average_by_song - average_by_song.mean()) / average_by_song.std()"
   ]
  }
 ],
 "metadata": {
  "kernelspec": {
   "display_name": ".venv",
   "language": "python",
   "name": "python3"
  },
  "language_info": {
   "codemirror_mode": {
    "name": "ipython",
    "version": 3
   },
   "file_extension": ".py",
   "mimetype": "text/x-python",
   "name": "python",
   "nbconvert_exporter": "python",
   "pygments_lexer": "ipython3",
   "version": "3.9.20"
  }
 },
 "nbformat": 4,
 "nbformat_minor": 5
}
