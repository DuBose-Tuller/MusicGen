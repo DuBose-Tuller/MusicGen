{
 "cells": [
  {
   "cell_type": "code",
   "execution_count": 1,
   "id": "6d7763ab-e547-49f5-975e-5b20667f00fb",
   "metadata": {},
   "outputs": [],
   "source": [
    "import pandas as pd\n",
    "import numpy as np"
   ]
  },
  {
   "cell_type": "code",
   "execution_count": 2,
   "id": "caf7f2b5",
   "metadata": {},
   "outputs": [],
   "source": [
    "df = pd.read_csv('FFfull.csv', low_memory=False)\n",
    "\n",
    "web_df = df[df['study'] == 'web'].copy()\n",
    "field_df = df[df['study'] == 'field'].copy()\n",
    "\n",
    "song_functions = df.groupby(\"song\").agg({'songfunction': 'first'})\n",
    "\n",
    "# Get ratings and normalize\n",
    "web_ratings = web_df[[\"danc\",\"heal\",\"baby\",\"love\",'achi', 'visi']].to_numpy()\n",
    "field_ratings = field_df[[\"danc\",\"heal\",\"baby\",\"love\",'achi', 'visi', 'stor', 'dead']].to_numpy()"
   ]
  },
  {
   "cell_type": "code",
   "execution_count": 3,
   "id": "ba6d473f",
   "metadata": {},
   "outputs": [
    {
     "name": "stdout",
     "output_type": "stream",
     "text": [
      "(array([1, 2, 3, 4, 5, 6]), array([52104, 31920, 20219, 10909,  5061,  8976]))\n"
     ]
    }
   ],
   "source": [
    "max_value_per_row = np.max(web_ratings, axis=1, keepdims=True)\n",
    "is_max_value = (web_ratings == max_value_per_row)\n",
    "counts = np.unique(np.sum(is_max_value, axis=1), return_counts=True)\n",
    "print(counts)"
   ]
  },
  {
   "cell_type": "code",
   "execution_count": 4,
   "id": "8f332c07",
   "metadata": {},
   "outputs": [
    {
     "name": "stdout",
     "output_type": "stream",
     "text": [
      "(array([0, 1, 2, 3, 4, 5, 6, 7, 8]), array([  9, 272, 328, 576, 373, 232, 145,  57,  79]))\n"
     ]
    }
   ],
   "source": [
    "max_value_per_row = np.max(field_ratings, axis=1, keepdims=True)\n",
    "is_max_value = (field_ratings == max_value_per_row)\n",
    "counts = np.unique(np.sum(is_max_value, axis=1), return_counts=True)\n",
    "print(counts)"
   ]
  },
  {
   "cell_type": "code",
   "execution_count": null,
   "id": "1cc98a0b",
   "metadata": {},
   "outputs": [],
   "source": []
  }
 ],
 "metadata": {
  "kernelspec": {
   "display_name": ".venv",
   "language": "python",
   "name": "python3"
  },
  "language_info": {
   "codemirror_mode": {
    "name": "ipython",
    "version": 3
   },
   "file_extension": ".py",
   "mimetype": "text/x-python",
   "name": "python",
   "nbconvert_exporter": "python",
   "pygments_lexer": "ipython3",
   "version": "3.9.20"
  }
 },
 "nbformat": 4,
 "nbformat_minor": 5
}
