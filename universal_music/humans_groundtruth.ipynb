{
 "cells": [
  {
   "cell_type": "code",
   "execution_count": null,
   "metadata": {},
   "outputs": [],
   "source": [
    "import pandas as pd\n",
    "from sklearn.metrics import f1_score, recall_score, precision_score, confusion_matrix\n",
    "import numpy as np\n",
    "from pprint import pprint"
   ]
  },
  {
   "cell_type": "code",
   "execution_count": null,
   "metadata": {},
   "outputs": [],
   "source": [
    "df = pd.read_csv('FFfull.csv', low_memory=False)\n",
    "\n",
    "web_df = df[df['study'] == 'web'].copy()\n",
    "field_df = df[df['study'] == 'field'].copy()\n",
    "\n",
    "song_functions = df.groupby(\"song\").agg({'songfunction': 'first'})\n",
    "web_ratings = web_df[[\"songfunction\", \"song\", \"danc\",\"heal\",\"baby\",\"love\"]].copy()"
   ]
  },
  {
   "cell_type": "code",
   "execution_count": null,
   "metadata": {},
   "outputs": [],
   "source": [
    "# # Evil bit hacking\n",
    "# arr = web_ratings[[\"danc\",\"heal\",\"baby\",\"love\"]].to_numpy()\n",
    "# max_values = np.max(arr, axis=1, keepdims=True)\n",
    "# mask = (arr == max_values)\n",
    "# random_masked = np.random.random(arr.shape) * mask\n",
    "# web_ratings[\"y_pred\"] = np.argmax(random_masked, axis=1)\n",
    "\n",
    "\n",
    "def policy_argmax_per_row(arr, true_labels, policy='random'):\n",
    "    \"\"\"\n",
    "    Vectorized implementation for finding argmax with specific tie-breaking policies:\n",
    "    - 'random': randomly select from ties\n",
    "    - 'generous': select the index that matches true_labels if possible (best case)\n",
    "    - 'strict': select the index that differs from true_labels if possible (worst case)\n",
    "    \n",
    "    Args:\n",
    "        arr: array of shape (n_samples, n_classes)\n",
    "        true_labels: array of true labels of shape (n_samples,)\n",
    "        policy: tie-breaking policy ('random', 'generous', or 'strict')\n",
    "    \"\"\"\n",
    "    # Get mask of all max values\n",
    "    max_vals = np.max(arr, axis=1, keepdims=True)\n",
    "    mask = (arr == max_vals)\n",
    "    \n",
    "    if policy == 'random':\n",
    "        # Original efficient random method\n",
    "        random_values = np.random.random(arr.shape) * mask\n",
    "        return np.argmax(random_values, axis=1)\n",
    "    \n",
    "    # Create a range array for comparing with true_labels\n",
    "    row_indices = np.arange(arr.shape[0])\n",
    "    \n",
    "    if policy == 'generous':\n",
    "        # For \"best case\" - prioritize the true label when it's among the max values\n",
    "        \n",
    "        # Check if true label is among the max values\n",
    "        true_label_is_max = mask[row_indices, true_labels]\n",
    "        \n",
    "        # Where true label is max, use it; otherwise use random tie-breaking\n",
    "        result = np.zeros(arr.shape[0], dtype=int)\n",
    "        \n",
    "        # For rows where true label is max, use the true label\n",
    "        result[true_label_is_max] = true_labels[true_label_is_max]\n",
    "        \n",
    "        # For rows where true label is not max, use random tie-breaking\n",
    "        non_match_rows = ~true_label_is_max\n",
    "        if np.any(non_match_rows):\n",
    "            # Create random values just for these rows\n",
    "            random_subset = np.random.random(arr[non_match_rows].shape) * mask[non_match_rows]\n",
    "            result[non_match_rows] = np.argmax(random_subset, axis=1)\n",
    "        \n",
    "        return result\n",
    "        \n",
    "    elif policy == 'strict':\n",
    "        # For \"worst case\" - avoid the true label when other max values exist\n",
    "        \n",
    "        # Create a penalty matrix - make true labels less favorable\n",
    "        penalty = np.zeros(arr.shape)\n",
    "        penalty[row_indices, true_labels] = 1\n",
    "        \n",
    "        # Apply penalty only to elements that are max\n",
    "        masked_penalty = penalty * mask\n",
    "        \n",
    "        # When choosing argmax with penalty, true labels will only be chosen\n",
    "        # if they're the only max value\n",
    "        random_values = np.random.random(arr.shape) * 0.1  # Small random values for secondary tie-breaking\n",
    "        selection_values = mask * (1 - masked_penalty + random_values)\n",
    "        \n",
    "        return np.argmax(selection_values, axis=1)"
   ]
  },
  {
   "cell_type": "code",
   "execution_count": null,
   "metadata": {},
   "outputs": [],
   "source": [
    "# Create ordered categorical with your specific order\n",
    "ordered_cats = pd.CategoricalDtype(categories=['danc', 'heal', 'baby', 'love'], ordered=True)\n",
    "series_cat = web_ratings.songfunction.astype(ordered_cats)\n",
    "\n",
    "# Now the codes will match your order\n",
    "web_ratings[\"y_true\"] = series_cat.cat.codes"
   ]
  },
  {
   "cell_type": "code",
   "execution_count": null,
   "metadata": {},
   "outputs": [],
   "source": [
    "arr = web_ratings[[\"danc\",\"heal\",\"baby\",\"love\"]].copy().to_numpy()\n",
    "web_ratings[\"y_pred_random\"] = policy_argmax_per_row(arr, web_ratings.y_true, policy='random')\n",
    "web_ratings[\"y_pred_generous\"] = policy_argmax_per_row(arr, web_ratings.y_true, policy='generous')\n",
    "web_ratings[\"y_pred_strict\"] = policy_argmax_per_row(arr, web_ratings.y_true, policy='strict')"
   ]
  },
  {
   "cell_type": "code",
   "execution_count": null,
   "metadata": {},
   "outputs": [],
   "source": [
    "def compute_metrics(y_test, y_pred):\n",
    "    \"\"\"Compute classification metrics.\"\"\"\n",
    "    metrics = {\n",
    "        \"f1\": f1_score(y_test, y_pred, average='macro'),\n",
    "        \"recall\": recall_score(y_test, y_pred, average='macro'),\n",
    "        \"precision\": precision_score(y_test, y_pred, average='macro'),\n",
    "        \"per_class\": {\n",
    "            \"precision\": precision_score(y_test, y_pred, average=None).tolist(),\n",
    "            \"recall\": recall_score(y_test, y_pred, average=None).tolist(),\n",
    "            \"f1\": f1_score(y_test, y_pred, average=None).tolist()\n",
    "        }\n",
    "    }\n",
    "        \n",
    "    return metrics"
   ]
  },
  {
   "cell_type": "code",
   "execution_count": null,
   "metadata": {},
   "outputs": [],
   "source": [
    "y_true = web_ratings.y_true.to_numpy()\n",
    "y_pred_random = web_ratings.y_pred_random.to_numpy()\n",
    "y_pred_generous = web_ratings.y_pred_generous.to_numpy()\n",
    "y_pred_strict = web_ratings.y_pred_strict.to_numpy()\n",
    "\n",
    "print(\"Random:\")\n",
    "pprint(compute_metrics(y_true, y_pred_random))\n",
    "pprint(confusion_matrix(y_true, y_pred_random))\n",
    "\n",
    "print(\"Generous:\")\n",
    "pprint(compute_metrics(y_true, y_pred_generous))\n",
    "pprint(confusion_matrix(y_true, y_pred_generous))\n",
    "\n",
    "print(\"Strict:\")\n",
    "pprint(compute_metrics(y_true, y_pred_strict))\n",
    "pprint(confusion_matrix(y_true, y_pred_strict))\n"
   ]
  },
  {
   "cell_type": "code",
   "execution_count": null,
   "metadata": {},
   "outputs": [],
   "source": [
    "# Uncomment to save results to numpy files\n",
    "\n",
    "# np.save(\"web_survey_ratings_random\", y_pred_random)\n",
    "# np.save(\"web_survey_ratings_generous\", y_pred_generous)\n",
    "# np.save(\"web_survey_ratings_strict\", y_pred_strict)"
   ]
  }
 ],
 "metadata": {
  "kernelspec": {
   "display_name": ".venv",
   "language": "python",
   "name": "python3"
  },
  "language_info": {
   "codemirror_mode": {
    "name": "ipython",
    "version": 3
   },
   "file_extension": ".py",
   "mimetype": "text/x-python",
   "name": "python",
   "nbconvert_exporter": "python",
   "pygments_lexer": "ipython3",
   "version": "3.9.20"
  }
 },
 "nbformat": 4,
 "nbformat_minor": 2
}
