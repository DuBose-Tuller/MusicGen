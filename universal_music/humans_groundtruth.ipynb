{
 "cells": [
  {
   "cell_type": "code",
   "execution_count": null,
   "metadata": {},
   "outputs": [],
   "source": [
    "import pandas as pd\n",
    "from sklearn.metrics import f1_score, recall_score, precision_score, confusion_matrix, roc_auc_score\n",
    "import numpy as np"
   ]
  },
  {
   "cell_type": "code",
   "execution_count": null,
   "metadata": {},
   "outputs": [],
   "source": [
    "df = pd.read_csv('FFfull.csv', low_memory=False)\n",
    "\n",
    "web_df = df[df['study'] == 'web'].copy()\n",
    "field_df = df[df['study'] == 'field'].copy()\n",
    "\n",
    "song_functions = df.groupby(\"song\").agg({'songfunction': 'first'})\n",
    "web_ratings = web_df[[\"songfunction\", \"song\", \"danc\",\"heal\",\"baby\",\"love\"]]"
   ]
  },
  {
   "cell_type": "code",
   "execution_count": null,
   "metadata": {},
   "outputs": [],
   "source": [
    "# Evil bit hacking\n",
    "arr = web_ratings[[\"danc\",\"heal\",\"baby\",\"love\"]].to_numpy()\n",
    "max_values = np.max(arr, axis=1, keepdims=True)\n",
    "mask = (arr == max_values)\n",
    "random_masked = np.random.random(arr.shape) * mask\n",
    "web_ratings[\"y_pred\"] = np.argmax(random_masked, axis=1)"
   ]
  },
  {
   "cell_type": "code",
   "execution_count": null,
   "metadata": {},
   "outputs": [],
   "source": [
    "# Create ordered categorical with your specific order\n",
    "ordered_cats = pd.CategoricalDtype(categories=['danc', 'heal', 'baby', 'love'], ordered=True)\n",
    "series_cat = web_ratings.songfunction.astype(ordered_cats)\n",
    "\n",
    "# Now the codes will match your order\n",
    "web_ratings[\"y_true\"] = series_cat.cat.codes"
   ]
  },
  {
   "cell_type": "markdown",
   "metadata": {},
   "source": [
    "### Humans vs. Ground Truth"
   ]
  },
  {
   "cell_type": "code",
   "execution_count": null,
   "metadata": {},
   "outputs": [],
   "source": [
    "y_pred = web_ratings.y_pred.to_numpy()\n",
    "y_true = web_ratings.y_true.to_numpy()\n",
    "cm = confusion_matrix(y_true, y_pred)\n",
    "\n",
    "def compute_metrics(y_test, y_pred):\n",
    "    \"\"\"Compute classification metrics.\"\"\"\n",
    "    metrics = {\n",
    "        \"f1\": f1_score(y_test, y_pred, average='macro'),\n",
    "        \"recall\": recall_score(y_test, y_pred, average='macro'),\n",
    "        \"precision\": precision_score(y_test, y_pred, average='macro'),\n",
    "        \"per_class\": {\n",
    "            \"precision\": precision_score(y_test, y_pred, average=None).tolist(),\n",
    "            \"recall\": recall_score(y_test, y_pred, average=None).tolist(),\n",
    "            \"f1\": f1_score(y_test, y_pred, average=None).tolist()\n",
    "        }\n",
    "    }\n",
    "        \n",
    "    return metrics\n",
    "\n",
    "\n",
    "metrics = compute_metrics(y_true, y_pred)"
   ]
  },
  {
   "cell_type": "code",
   "execution_count": null,
   "metadata": {},
   "outputs": [],
   "source": [
    "from pprint import pprint\n",
    "pprint(metrics)\n",
    "print(\"Confusion Matrix\")\n",
    "pprint(cm)"
   ]
  }
 ],
 "metadata": {
  "kernelspec": {
   "display_name": ".venv",
   "language": "python",
   "name": "python3"
  },
  "language_info": {
   "codemirror_mode": {
    "name": "ipython",
    "version": 3
   },
   "file_extension": ".py",
   "mimetype": "text/x-python",
   "name": "python",
   "nbconvert_exporter": "python",
   "pygments_lexer": "ipython3",
   "version": "3.9.20"
  }
 },
 "nbformat": 4,
 "nbformat_minor": 2
}
