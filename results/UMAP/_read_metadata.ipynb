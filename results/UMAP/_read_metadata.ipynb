{
 "cells": [
  {
   "cell_type": "code",
   "execution_count": 1,
   "metadata": {},
   "outputs": [],
   "source": [
    "import h5py\n",
    "import json\n",
    "\n",
    "def extract_umap_metadata(h5_path):\n",
    "    \"\"\"Extract metadata from UMAP H5 file.\n",
    "    \n",
    "    Args:\n",
    "        h5_path (str): Path to the H5 file\n",
    "        \n",
    "    Returns:\n",
    "        dict: Dictionary containing metadata including configuration and timestamp\n",
    "    \"\"\"\n",
    "    with h5py.File(h5_path, 'r') as f:\n",
    "        # Extract metadata from attributes\n",
    "        metadata = json.loads(f.attrs['metadata'])\n",
    "        \n",
    "        # Get dataset information\n",
    "        n_samples = f['embeddings'].shape[0]\n",
    "        n_dimensions = f['embeddings'].shape[1]\n",
    "        \n",
    "        # Get class names\n",
    "        class_names = [name.decode('utf-8') for name in f['class_names']]\n",
    "        \n",
    "        # Add additional information to metadata\n",
    "        metadata['n_samples'] = n_samples\n",
    "        metadata['n_dimensions'] = n_dimensions\n",
    "        metadata['class_names'] = class_names\n",
    "        \n",
    "    return metadata\n",
    "\n",
    "# Example usage:\n",
    "# h5_path = \"path/to/your/umap_20240312_123456_abcd1234.h5\"\n",
    "# metadata = extract_umap_metadata(h5_path)\n",
    "# print(\"Timestamp:\", metadata['timestamp'])\n",
    "# print(\"\\nUMAP Configuration:\")\n",
    "# print(json.dumps(metadata['config'], indent=2))\n",
    "# print(f\"\\nDataset Information:\")\n",
    "# print(f\"Number of samples: {metadata['n_samples']}\")\n",
    "# print(f\"Number of dimensions: {metadata['n_dimensions']}\")\n",
    "# print(\"Classes:\", metadata['class_names'])"
   ]
  },
  {
   "cell_type": "code",
   "execution_count": 2,
   "metadata": {},
   "outputs": [
    {
     "name": "stdout",
     "output_type": "stream",
     "text": [
      "{'timestamp': '2024-11-10T14:54:27.849347', 'config': {'datasets': [{'dataset': 'acpasXsample_noise', 'method': 'last', 'segment': 15, 'stride': 15}], 'umap': {'n_neighbors': 7, 'min_dist': 0.01, 'n_components': 2, 'random_seed': None, 'metric': 'euclidean'}}, 'n_samples': 4159, 'n_dimensions': 2, 'class_names': ['acpasXsample_noise']}\n"
     ]
    }
   ],
   "source": [
    "path = \"/home/DAVIDSON/dutuller/Workspace/DRI1/MusicGen/results/UMAP/umap_20241110_145427_346bc573.h5\"\n",
    "data = extract_umap_metadata(path)\n",
    "print(data)"
   ]
  },
  {
   "cell_type": "code",
   "execution_count": null,
   "metadata": {},
   "outputs": [],
   "source": []
  }
 ],
 "metadata": {
  "kernelspec": {
   "display_name": ".venv",
   "language": "python",
   "name": "python3"
  },
  "language_info": {
   "codemirror_mode": {
    "name": "ipython",
    "version": 3
   },
   "file_extension": ".py",
   "mimetype": "text/x-python",
   "name": "python",
   "nbconvert_exporter": "python",
   "pygments_lexer": "ipython3",
   "version": "3.9.20"
  }
 },
 "nbformat": 4,
 "nbformat_minor": 2
}
