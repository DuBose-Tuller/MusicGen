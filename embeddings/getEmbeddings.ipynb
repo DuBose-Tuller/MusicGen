{
 "cells": [
  {
   "cell_type": "code",
   "execution_count": 1,
   "metadata": {},
   "outputs": [
    {
     "name": "stderr",
     "output_type": "stream",
     "text": [
      "/home/DAVIDSON/dutuller/Workspace/DRI1/MusicGen/.venv/lib64/python3.9/site-packages/tqdm/auto.py:21: TqdmWarning: IProgress not found. Please update jupyter and ipywidgets. See https://ipywidgets.readthedocs.io/en/stable/user_install.html\n",
      "  from .autonotebook import tqdm as notebook_tqdm\n",
      "/home/DAVIDSON/dutuller/Workspace/DRI1/MusicGen/.venv/lib64/python3.9/site-packages/torch/nn/utils/weight_norm.py:30: UserWarning: torch.nn.utils.weight_norm is deprecated in favor of torch.nn.utils.parametrizations.weight_norm.\n",
      "  warnings.warn(\"torch.nn.utils.weight_norm is deprecated in favor of torch.nn.utils.parametrizations.weight_norm.\")\n"
     ]
    }
   ],
   "source": [
    "import torch\n",
    "from torch import nn\n",
    "import torchaudio\n",
    "from audiocraft.models import MusicGen\n",
    "model = MusicGen.get_pretrained('facebook/musicgen-melody')"
   ]
  },
  {
   "cell_type": "code",
   "execution_count": 2,
   "metadata": {},
   "outputs": [],
   "source": [
    "def preprocess_waveform(filename, device='cuda'):\n",
    "    if type(filename) == str:\n",
    "        waveform, sample_rate = torchaudio.load(filename)\n",
    "    else:\n",
    "        print(\"DuBose make this function work with a whole list\")\n",
    "        raise NotImplementedError\n",
    "\n",
    "    # Convert to mono if stereo\n",
    "    if waveform.shape[0] > 1:\n",
    "        waveform = torch.mean(waveform, dim=0, keepdim=True)\n",
    "\n",
    "    return waveform.unsqueeze(0).to(device)\n",
    "\n",
    "\n",
    "# Largely ripped from LMModel.generate() in lm.py\n",
    "def get_patterns(prompt, max_gen_len=10000, device=\"cuda\"):\n",
    "    B, K, T = prompt.shape\n",
    "    start_offset = T\n",
    "    assert start_offset < max_gen_len\n",
    "\n",
    "    pattern = model.lm.pattern_provider.get_pattern(max_gen_len)\n",
    "\n",
    "    # this token is used as default value for codes that are not generated yet\n",
    "    unknown_token = -1\n",
    "\n",
    "    # we generate codes up to the max_gen_len that will be mapped to the pattern sequence\n",
    "    gen_codes = torch.full((B, K, max_gen_len), unknown_token, dtype=torch.long, device=device)\n",
    "    # filling the gen_codes with the prompt if needed\n",
    "    gen_codes[..., :start_offset] = prompt\n",
    "    # create the gen_sequence with proper interleaving from the pattern: [B, K, S]\n",
    "    gen_sequence, indexes, mask = pattern.build_pattern_sequence(gen_codes, 2048)\n",
    "    # retrieve the start_offset in the sequence:\n",
    "    # it is the first sequence step that contains the `start_offset` timestep\n",
    "    start_offset_sequence = pattern.get_first_step_with_timesteps(start_offset)\n",
    "    assert start_offset_sequence is not None\n",
    "\n",
    "    return gen_sequence\n",
    "\n",
    "class ScaledEmbedding(nn.Embedding):\n",
    "    def __init__(self, *args, lr=None, **kwargs):\n",
    "        super().__init__(*args, **kwargs)\n",
    "        self.lr = lr\n",
    "\n",
    "    def make_optim_group(self):\n",
    "        group = {\"params\": list(self.parameters())}\n",
    "        if self.lr is not None:\n",
    "            group[\"lr\"] = self.lr\n",
    "        return group\n",
    "\n",
    "\n",
    "def prep_input(sequence, pad_token=-1, embed_dim=1536, emb_lr=1.0):\n",
    "    device = sequence.device\n",
    "    B, K, S = sequence.shape\n",
    "    \n",
    "    # Adjust vocab_size to account for padding token and maximum value\n",
    "    vocab_size = sequence.max().item() + 1\n",
    "    emb = nn.ModuleList([ScaledEmbedding(vocab_size, embed_dim, padding_idx=pad_token, lr=emb_lr) for _ in range(K)]).to(device)\n",
    "\n",
    "    # Apply each embedding layer to its corresponding codebook and sum the results\n",
    "    embedded = []\n",
    "    for k in range(K):\n",
    "        # Replace -1 with the last index in vocab (which will be mapped to zero vector due to padding_idx)\n",
    "        seq_k = torch.where(sequence[:, k] == pad_token, torch.tensor(vocab_size - 1, device=device), sequence[:, k])\n",
    "        emb_k = emb[k](seq_k)\n",
    "        embedded.append(emb_k)\n",
    "    \n",
    "    input_ = sum(embedded)\n",
    "    return input_"
   ]
  },
  {
   "cell_type": "code",
   "execution_count": 14,
   "metadata": {},
   "outputs": [
    {
     "name": "stderr",
     "output_type": "stream",
     "text": [
      "100%|██████████| 10/10 [00:13<00:00,  1.31s/it]\n"
     ]
    }
   ],
   "source": [
    "import os\n",
    "import json\n",
    "from tqdm import tqdm\n",
    "import numpy as np\n",
    "\n",
    "data_path = \"../data/toy\"\n",
    "EMBED_DIM = 1536\n",
    "\n",
    "embeddings = {}\n",
    "\n",
    "with torch.no_grad():\n",
    "    for file in tqdm(os.listdir(data_path)):\n",
    "        file = os.path.join(data_path, file)\n",
    "        waveform = preprocess_waveform(file)\n",
    "        codes, scale = model.compression_model.encode(waveform)\n",
    "        del waveform\n",
    "\n",
    "\n",
    "        # transform the codes so that they match the embedding dimension (1536)\n",
    "        gen_sequence = get_patterns(codes)\n",
    "        x = prep_input(gen_sequence)\n",
    "        del codes\n",
    "        del gen_sequence\n",
    "        \n",
    "        for layer in model.lm.transformer.layers:\n",
    "            x = x.half()\n",
    "            x = layer(x)\n",
    "    \n",
    "        final_embedding = x[:,-1,:].cpu().flatten().data.numpy().tolist()\n",
    "        embeddings[file] = final_embedding\n",
    "\n",
    "with open(\"toy-embeddings.json\", \"w\") as f:\n",
    "    json.dump(embeddings, f)"
   ]
  },
  {
   "cell_type": "code",
   "execution_count": null,
   "metadata": {},
   "outputs": [],
   "source": []
  }
 ],
 "metadata": {
  "kernelspec": {
   "display_name": ".venv",
   "language": "python",
   "name": "python3"
  },
  "language_info": {
   "codemirror_mode": {
    "name": "ipython",
    "version": 3
   },
   "file_extension": ".py",
   "mimetype": "text/x-python",
   "name": "python",
   "nbconvert_exporter": "python",
   "pygments_lexer": "ipython3",
   "version": "3.9.19"
  }
 },
 "nbformat": 4,
 "nbformat_minor": 2
}
