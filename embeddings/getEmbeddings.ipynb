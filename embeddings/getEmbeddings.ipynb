{
 "cells": [
  {
   "cell_type": "code",
   "execution_count": 1,
   "metadata": {},
   "outputs": [
    {
     "name": "stderr",
     "output_type": "stream",
     "text": [
      "/home/DAVIDSON/dutuller/Workspace/DRI1/MusicGen/.venv/lib64/python3.9/site-packages/torch/nn/utils/weight_norm.py:30: UserWarning: torch.nn.utils.weight_norm is deprecated in favor of torch.nn.utils.parametrizations.weight_norm.\n",
      "  warnings.warn(\"torch.nn.utils.weight_norm is deprecated in favor of torch.nn.utils.parametrizations.weight_norm.\")\n"
     ]
    }
   ],
   "source": [
    "import torch\n",
    "from torch import nn\n",
    "import torchaudio\n",
    "from audiocraft.models import MusicGen\n",
    "model = MusicGen.get_pretrained('facebook/musicgen-melody')"
   ]
  },
  {
   "cell_type": "code",
   "execution_count": 2,
   "metadata": {},
   "outputs": [],
   "source": [
    "def preprocess_waveform(filename, device='cuda'):\n",
    "    if type(filename) == str:\n",
    "        waveform, sample_rate = torchaudio.load(filename)\n",
    "    else:\n",
    "        print(\"DuBose make this function work with a whole list\")\n",
    "        raise NotImplementedError\n",
    "\n",
    "    # Convert to mono if stereo\n",
    "    if waveform.shape[0] > 1:\n",
    "        waveform = torch.mean(waveform, dim=0, keepdim=True)\n",
    "\n",
    "    return waveform.unsqueeze(0).to(device)\n",
    "\n",
    "\n",
    "# Largely ripped from LMModel.generate() in lm.py\n",
    "def get_patterns(prompt, device=\"cuda\"):\n",
    "    B, K, T = prompt.shape\n",
    "    start_offset = T\n",
    "\n",
    "    pattern = model.lm.pattern_provider.get_pattern(T)\n",
    "\n",
    "    # this token is used as default value for codes that are not generated yet\n",
    "    unknown_token = -1\n",
    "\n",
    "    # we generate codes up to the max_gen_len that will be mapped to the pattern sequence\n",
    "    gen_codes = torch.full((B, K, T), unknown_token, dtype=torch.long, device=device)\n",
    "    # filling the gen_codes with the prompt if needed\n",
    "    gen_codes[..., :start_offset] = prompt\n",
    "    # create the gen_sequence with proper interleaving from the pattern: [B, K, S]\n",
    "    gen_sequence, indexes, mask = pattern.build_pattern_sequence(gen_codes, 2048)\n",
    "    # retrieve the start_offset in the sequence:\n",
    "    # it is the first sequence step that contains the `start_offset` timestep\n",
    "    start_offset_sequence = pattern.get_first_step_with_timesteps(start_offset)\n",
    "    assert start_offset_sequence is not None\n",
    "\n",
    "    return gen_sequence\n",
    "\n",
    "class ScaledEmbedding(nn.Embedding):\n",
    "    def __init__(self, *args, lr=None, **kwargs):\n",
    "        super().__init__(*args, **kwargs)\n",
    "        self.lr = lr\n",
    "\n",
    "    def make_optim_group(self):\n",
    "        group = {\"params\": list(self.parameters())}\n",
    "        if self.lr is not None:\n",
    "            group[\"lr\"] = self.lr\n",
    "        return group\n",
    "\n",
    "\n",
    "def prep_input(sequence, pad_token=-1, embed_dim=1536, emb_lr=1.0):\n",
    "    device = sequence.device\n",
    "    B, K, S = sequence.shape\n",
    "    \n",
    "    # Adjust vocab_size to account for padding token and maximum value\n",
    "    vocab_size = sequence.max().item() + 1\n",
    "    emb = nn.ModuleList([ScaledEmbedding(vocab_size, embed_dim, padding_idx=pad_token, lr=emb_lr) for _ in range(K)]).to(device)\n",
    "\n",
    "    # Apply each embedding layer to its corresponding codebook and sum the results\n",
    "    embedded = []\n",
    "    for k in range(K):\n",
    "        # Replace -1 with the last index in vocab (which will be mapped to zero vector due to padding_idx)\n",
    "        seq_k = torch.where(sequence[:, k] == pad_token, torch.tensor(vocab_size - 1, device=device), sequence[:, k])\n",
    "        emb_k = emb[k](seq_k)\n",
    "        embedded.append(emb_k)\n",
    "    \n",
    "    input_ = sum(embedded)\n",
    "    return input_"
   ]
  },
  {
   "cell_type": "code",
   "execution_count": 3,
   "metadata": {},
   "outputs": [
    {
     "name": "stderr",
     "output_type": "stream",
     "text": [
      "  0%|          | 0/28648 [00:00<?, ?it/s]"
     ]
    },
    {
     "name": "stderr",
     "output_type": "stream",
     "text": [
      "  1%|          | 195/28648 [00:59<2:25:49,  3.25it/s]\n"
     ]
    },
    {
     "ename": "KeyboardInterrupt",
     "evalue": "",
     "output_type": "error",
     "traceback": [
      "\u001b[0;31m---------------------------------------------------------------------------\u001b[0m",
      "\u001b[0;31mKeyboardInterrupt\u001b[0m                         Traceback (most recent call last)",
      "Cell \u001b[0;32mIn[3], line 34\u001b[0m\n\u001b[1;32m     31\u001b[0m embeddings[file] \u001b[38;5;241m=\u001b[39m final_embedding\n\u001b[1;32m     33\u001b[0m \u001b[38;5;28;01mwith\u001b[39;00m \u001b[38;5;28mopen\u001b[39m(\u001b[38;5;124mf\u001b[39m\u001b[38;5;124m\"\u001b[39m\u001b[38;5;132;01m{\u001b[39;00mDATASET\u001b[38;5;132;01m}\u001b[39;00m\u001b[38;5;124m-embeddings.json\u001b[39m\u001b[38;5;124m\"\u001b[39m, \u001b[38;5;124m\"\u001b[39m\u001b[38;5;124mw\u001b[39m\u001b[38;5;124m\"\u001b[39m) \u001b[38;5;28;01mas\u001b[39;00m f:\n\u001b[0;32m---> 34\u001b[0m     \u001b[43mjson\u001b[49m\u001b[38;5;241;43m.\u001b[39;49m\u001b[43mdump\u001b[49m\u001b[43m(\u001b[49m\u001b[43membeddings\u001b[49m\u001b[43m,\u001b[49m\u001b[43m \u001b[49m\u001b[43mf\u001b[49m\u001b[43m)\u001b[49m\n",
      "File \u001b[0;32m/usr/lib64/python3.9/json/__init__.py:179\u001b[0m, in \u001b[0;36mdump\u001b[0;34m(obj, fp, skipkeys, ensure_ascii, check_circular, allow_nan, cls, indent, separators, default, sort_keys, **kw)\u001b[0m\n\u001b[1;32m    173\u001b[0m     iterable \u001b[38;5;241m=\u001b[39m \u001b[38;5;28mcls\u001b[39m(skipkeys\u001b[38;5;241m=\u001b[39mskipkeys, ensure_ascii\u001b[38;5;241m=\u001b[39mensure_ascii,\n\u001b[1;32m    174\u001b[0m         check_circular\u001b[38;5;241m=\u001b[39mcheck_circular, allow_nan\u001b[38;5;241m=\u001b[39mallow_nan, indent\u001b[38;5;241m=\u001b[39mindent,\n\u001b[1;32m    175\u001b[0m         separators\u001b[38;5;241m=\u001b[39mseparators,\n\u001b[1;32m    176\u001b[0m         default\u001b[38;5;241m=\u001b[39mdefault, sort_keys\u001b[38;5;241m=\u001b[39msort_keys, \u001b[38;5;241m*\u001b[39m\u001b[38;5;241m*\u001b[39mkw)\u001b[38;5;241m.\u001b[39miterencode(obj)\n\u001b[1;32m    177\u001b[0m \u001b[38;5;66;03m# could accelerate with writelines in some versions of Python, at\u001b[39;00m\n\u001b[1;32m    178\u001b[0m \u001b[38;5;66;03m# a debuggability cost\u001b[39;00m\n\u001b[0;32m--> 179\u001b[0m \u001b[38;5;28;01mfor\u001b[39;00m chunk \u001b[38;5;129;01min\u001b[39;00m iterable:\n\u001b[1;32m    180\u001b[0m     fp\u001b[38;5;241m.\u001b[39mwrite(chunk)\n",
      "File \u001b[0;32m/usr/lib64/python3.9/json/encoder.py:431\u001b[0m, in \u001b[0;36m_make_iterencode.<locals>._iterencode\u001b[0;34m(o, _current_indent_level)\u001b[0m\n\u001b[1;32m    429\u001b[0m     \u001b[38;5;28;01myield from\u001b[39;00m _iterencode_list(o, _current_indent_level)\n\u001b[1;32m    430\u001b[0m \u001b[38;5;28;01melif\u001b[39;00m \u001b[38;5;28misinstance\u001b[39m(o, \u001b[38;5;28mdict\u001b[39m):\n\u001b[0;32m--> 431\u001b[0m     \u001b[38;5;28;01myield from\u001b[39;00m _iterencode_dict(o, _current_indent_level)\n\u001b[1;32m    432\u001b[0m \u001b[38;5;28;01melse\u001b[39;00m:\n\u001b[1;32m    433\u001b[0m     \u001b[38;5;28;01mif\u001b[39;00m markers \u001b[38;5;129;01mis\u001b[39;00m \u001b[38;5;129;01mnot\u001b[39;00m \u001b[38;5;28;01mNone\u001b[39;00m:\n",
      "File \u001b[0;32m/usr/lib64/python3.9/json/encoder.py:405\u001b[0m, in \u001b[0;36m_make_iterencode.<locals>._iterencode_dict\u001b[0;34m(dct, _current_indent_level)\u001b[0m\n\u001b[1;32m    403\u001b[0m         \u001b[38;5;28;01melse\u001b[39;00m:\n\u001b[1;32m    404\u001b[0m             chunks \u001b[38;5;241m=\u001b[39m _iterencode(value, _current_indent_level)\n\u001b[0;32m--> 405\u001b[0m         \u001b[38;5;28;01myield from\u001b[39;00m chunks\n\u001b[1;32m    406\u001b[0m \u001b[38;5;28;01mif\u001b[39;00m newline_indent \u001b[38;5;129;01mis\u001b[39;00m \u001b[38;5;129;01mnot\u001b[39;00m \u001b[38;5;28;01mNone\u001b[39;00m:\n\u001b[1;32m    407\u001b[0m     _current_indent_level \u001b[38;5;241m-\u001b[39m\u001b[38;5;241m=\u001b[39m \u001b[38;5;241m1\u001b[39m\n",
      "File \u001b[0;32m/usr/lib64/python3.9/json/encoder.py:301\u001b[0m, in \u001b[0;36m_make_iterencode.<locals>._iterencode_list\u001b[0;34m(lst, _current_indent_level)\u001b[0m\n\u001b[1;32m    299\u001b[0m \u001b[38;5;28;01melse\u001b[39;00m:\n\u001b[1;32m    300\u001b[0m     buf \u001b[38;5;241m=\u001b[39m separator\n\u001b[0;32m--> 301\u001b[0m \u001b[38;5;28;01mif\u001b[39;00m \u001b[38;5;28;43misinstance\u001b[39;49m\u001b[43m(\u001b[49m\u001b[43mvalue\u001b[49m\u001b[43m,\u001b[49m\u001b[43m \u001b[49m\u001b[38;5;28;43mstr\u001b[39;49m\u001b[43m)\u001b[49m:\n\u001b[1;32m    302\u001b[0m     \u001b[38;5;28;01myield\u001b[39;00m buf \u001b[38;5;241m+\u001b[39m _encoder(value)\n\u001b[1;32m    303\u001b[0m \u001b[38;5;28;01melif\u001b[39;00m value \u001b[38;5;129;01mis\u001b[39;00m \u001b[38;5;28;01mNone\u001b[39;00m:\n",
      "\u001b[0;31mKeyboardInterrupt\u001b[0m: "
     ]
    }
   ],
   "source": [
    "import os\n",
    "import json\n",
    "from tqdm import tqdm\n",
    "import numpy as np\n",
    "\n",
    "DATASET = \"acpas-unique-trimmed-s5-t5\"\n",
    "EMBED_DIM = 1536\n",
    "data_path = f\"../data/{DATASET}\"\n",
    "\n",
    "embeddings = {}\n",
    "\n",
    "with torch.no_grad():\n",
    "    for file in tqdm(os.listdir(data_path)):\n",
    "        file = os.path.join(data_path, file)\n",
    "        waveform = preprocess_waveform(file)\n",
    "        codes, scale = model.compression_model.encode(waveform)\n",
    "        del waveform\n",
    "\n",
    "\n",
    "        # transform the codes so that they match the embedding dimension (1536)\n",
    "        gen_sequence = get_patterns(codes)\n",
    "        x = prep_input(gen_sequence)\n",
    "        del codes\n",
    "        del gen_sequence\n",
    "        \n",
    "        for layer in model.lm.transformer.layers:\n",
    "            x = x.half()\n",
    "            x = layer(x)\n",
    "    \n",
    "        final_embedding = x[:,-1,:].cpu().flatten().data.numpy().tolist()\n",
    "        embeddings[file] = final_embedding\n",
    "\n",
    "        with open(f\"{DATASET}-embeddings.json\", \"w\") as f:\n",
    "            json.dump(embeddings, f)"
   ]
  },
  {
   "cell_type": "code",
   "execution_count": null,
   "metadata": {},
   "outputs": [],
   "source": [
    "# TODO add functionality to ignore ones that have already been embeded."
   ]
  }
 ],
 "metadata": {
  "kernelspec": {
   "display_name": ".venv",
   "language": "python",
   "name": "python3"
  },
  "language_info": {
   "codemirror_mode": {
    "name": "ipython",
    "version": 3
   },
   "file_extension": ".py",
   "mimetype": "text/x-python",
   "name": "python",
   "nbconvert_exporter": "python",
   "pygments_lexer": "ipython3",
   "version": "3.9.19"
  }
 },
 "nbformat": 4,
 "nbformat_minor": 2
}
