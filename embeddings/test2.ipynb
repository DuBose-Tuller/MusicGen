{
 "cells": [
  {
   "cell_type": "code",
   "execution_count": null,
   "metadata": {},
   "outputs": [],
   "source": [
    "import torch\n",
    "from torch import nn\n",
    "import torchaudio\n",
    "from audiocraft.models import MusicGen\n",
    "\n",
    "%env CUDA_LAUNCH_BLOCKING=1"
   ]
  },
  {
   "cell_type": "code",
   "execution_count": null,
   "metadata": {},
   "outputs": [],
   "source": [
    "model = MusicGen.get_pretrained('facebook/musicgen-melody')"
   ]
  },
  {
   "cell_type": "code",
   "execution_count": 3,
   "metadata": {},
   "outputs": [],
   "source": [
    "data_path = \"../data/toy\""
   ]
  },
  {
   "cell_type": "code",
   "execution_count": 4,
   "metadata": {},
   "outputs": [],
   "source": [
    "def preprocess_waveform(filename, device='cuda'):\n",
    "    if type(filename) == str:\n",
    "        waveform, sample_rate = torchaudio.load(filename)\n",
    "    else:\n",
    "        print(\"DuBose make this function work with a whole list\")\n",
    "        raise NotImplementedError\n",
    "\n",
    "    # Convert to mono if stereo\n",
    "    if waveform.shape[0] > 1:\n",
    "        waveform = torch.mean(waveform, dim=0, keepdim=True)\n",
    "\n",
    "    return waveform.unsqueeze(0).to(device)\n",
    "\n",
    "\n",
    "# Largely ripped from LMModel.generate() in lm.py\n",
    "def get_patterns(prompt, max_gen_len=10000, device=\"cuda\"):\n",
    "    B, K, T = prompt.shape\n",
    "    start_offset = T\n",
    "    assert start_offset < max_gen_len\n",
    "\n",
    "    pattern = model.lm.pattern_provider.get_pattern(max_gen_len)\n",
    "\n",
    "    # this token is used as default value for codes that are not generated yet\n",
    "    unknown_token = -1\n",
    "\n",
    "    # we generate codes up to the max_gen_len that will be mapped to the pattern sequence\n",
    "    gen_codes = torch.full((B, K, max_gen_len), unknown_token, dtype=torch.long, device=device)\n",
    "    # filling the gen_codes with the prompt if needed\n",
    "    gen_codes[..., :start_offset] = prompt\n",
    "    # create the gen_sequence with proper interleaving from the pattern: [B, K, S]\n",
    "    gen_sequence, indexes, mask = pattern.build_pattern_sequence(gen_codes, 1024)\n",
    "    # retrieve the start_offset in the sequence:\n",
    "    # it is the first sequence step that contains the `start_offset` timestep\n",
    "    start_offset_sequence = pattern.get_first_step_with_timesteps(start_offset)\n",
    "    assert start_offset_sequence is not None\n",
    "\n",
    "    print(gen_sequence.shape)\n",
    "\n",
    "    return gen_sequence\n",
    "\n",
    "\n",
    "# Largely ripped from LMModel.forward() and __init__() in lm.py\n",
    "def prep_input(sequence, vocab_size=2048, embed_dim=1536):\n",
    "    device = sequence.device\n",
    "    B, K, S = sequence.shape\n",
    "    emb = nn.ModuleList([nn.Embedding(vocab_size, embed_dim) for _ in range(K)]).to(device)\n",
    "\n",
    "    # Apply each embedding layer to its corresponding codebook and sum the results\n",
    "    input_ = sum(emb[k](sequence[:, k]) for k in range(K))\n",
    "    \n",
    "    return input_\n"
   ]
  },
  {
   "cell_type": "code",
   "execution_count": null,
   "metadata": {},
   "outputs": [],
   "source": [
    "import os\n",
    "from audiocraft.modules.conditioners import ConditioningAttributes\n",
    "import numpy as np\n",
    "\n",
    "blank_cond_attr = ConditioningAttributes()\n",
    "\n",
    "for file in os.listdir(data_path):\n",
    "    file = os.path.join(data_path, file)\n",
    "    waveform = preprocess_waveform(file)\n",
    "    codes, scale = model.compression_model.encode(waveform)\n",
    "    del waveform\n",
    "\n",
    "    # transform the codes so that they match the embedding dimension (1536)\n",
    "    gen_sequence = get_patterns(codes)\n",
    "\n",
    "    print(np.unique(gen_sequence.cpu(), axis=None))\n",
    "\n",
    "    x = prep_input(gen_sequence)\n",
    "    \n",
    "    # TODO There is some kind of indexing issue, try moving everything to the\n",
    "    # CPU for easier debugging \n",
    "    \n",
    "    # for layer in model.lm.transformer.layers:\n",
    "    #     x = layer(x)\n",
    "    #     print(x.shape)\n",
    "\n",
    "    # test = model.lm(codes, conditions=None)\n",
    "    # print(type(test))\n",
    "    \n",
    "    break\n",
    "\n"
   ]
  },
  {
   "cell_type": "code",
   "execution_count": null,
   "metadata": {},
   "outputs": [],
   "source": []
  }
 ],
 "metadata": {
  "kernelspec": {
   "display_name": ".venv",
   "language": "python",
   "name": "python3"
  },
  "language_info": {
   "codemirror_mode": {
    "name": "ipython",
    "version": 3
   },
   "file_extension": ".py",
   "mimetype": "text/x-python",
   "name": "python",
   "nbconvert_exporter": "python",
   "pygments_lexer": "ipython3",
   "version": "3.9.19"
  }
 },
 "nbformat": 4,
 "nbformat_minor": 2
}
