{
 "cells": [
  {
   "cell_type": "code",
   "execution_count": 1,
   "metadata": {},
   "outputs": [
    {
     "name": "stderr",
     "output_type": "stream",
     "text": [
      "/home/DAVIDSON/dutuller/Workspace/DRI1/MusicGen/.venv/lib64/python3.9/site-packages/tqdm/auto.py:21: TqdmWarning: IProgress not found. Please update jupyter and ipywidgets. See https://ipywidgets.readthedocs.io/en/stable/user_install.html\n",
      "  from .autonotebook import tqdm as notebook_tqdm\n"
     ]
    },
    {
     "name": "stdout",
     "output_type": "stream",
     "text": [
      "env: CUDA_LAUNCH_BLOCKING=1\n"
     ]
    }
   ],
   "source": [
    "import torch\n",
    "from torch import nn\n",
    "import torchaudio\n",
    "from audiocraft.models import MusicGen\n",
    "\n",
    "%env CUDA_LAUNCH_BLOCKING=1"
   ]
  },
  {
   "cell_type": "code",
   "execution_count": 2,
   "metadata": {},
   "outputs": [
    {
     "name": "stderr",
     "output_type": "stream",
     "text": [
      "/home/DAVIDSON/dutuller/Workspace/DRI1/MusicGen/.venv/lib64/python3.9/site-packages/torch/nn/utils/weight_norm.py:30: UserWarning: torch.nn.utils.weight_norm is deprecated in favor of torch.nn.utils.parametrizations.weight_norm.\n",
      "  warnings.warn(\"torch.nn.utils.weight_norm is deprecated in favor of torch.nn.utils.parametrizations.weight_norm.\")\n"
     ]
    }
   ],
   "source": [
    "model = MusicGen.get_pretrained('facebook/musicgen-melody')"
   ]
  },
  {
   "cell_type": "code",
   "execution_count": 3,
   "metadata": {},
   "outputs": [
    {
     "name": "stdout",
     "output_type": "stream",
     "text": [
      "2049\n",
      "1536\n",
      "4\n"
     ]
    }
   ],
   "source": [
    "lm = model.lm\n",
    "\n",
    "print(lm.card + 1)\n",
    "print(lm.dim)\n",
    "print(lm.n_q)"
   ]
  },
  {
   "cell_type": "code",
   "execution_count": 4,
   "metadata": {},
   "outputs": [],
   "source": [
    "data_path = \"../data/toy\""
   ]
  },
  {
   "cell_type": "code",
   "execution_count": 12,
   "metadata": {},
   "outputs": [],
   "source": [
    "def preprocess_waveform(filename, device='cuda'):\n",
    "    if type(filename) == str:\n",
    "        waveform, sample_rate = torchaudio.load(filename)\n",
    "    else:\n",
    "        print(\"DuBose make this function work with a whole list\")\n",
    "        raise NotImplementedError\n",
    "\n",
    "    # Convert to mono if stereo\n",
    "    if waveform.shape[0] > 1:\n",
    "        waveform = torch.mean(waveform, dim=0, keepdim=True)\n",
    "\n",
    "    return waveform.unsqueeze(0).to(device)\n",
    "\n",
    "\n",
    "# Largely ripped from LMModel.generate() in lm.py\n",
    "def get_patterns(prompt, max_gen_len=10000, device=\"cuda\"):\n",
    "    B, K, T = prompt.shape\n",
    "    start_offset = T\n",
    "    assert start_offset < max_gen_len\n",
    "\n",
    "    pattern = model.lm.pattern_provider.get_pattern(max_gen_len)\n",
    "\n",
    "    # this token is used as default value for codes that are not generated yet\n",
    "    unknown_token = -1\n",
    "\n",
    "    # we generate codes up to the max_gen_len that will be mapped to the pattern sequence\n",
    "    gen_codes = torch.full((B, K, max_gen_len), unknown_token, dtype=torch.long, device=device)\n",
    "    # filling the gen_codes with the prompt if needed\n",
    "    gen_codes[..., :start_offset] = prompt\n",
    "    # create the gen_sequence with proper interleaving from the pattern: [B, K, S]\n",
    "    gen_sequence, indexes, mask = pattern.build_pattern_sequence(gen_codes, 2048)\n",
    "    # retrieve the start_offset in the sequence:\n",
    "    # it is the first sequence step that contains the `start_offset` timestep\n",
    "    start_offset_sequence = pattern.get_first_step_with_timesteps(start_offset)\n",
    "    assert start_offset_sequence is not None\n",
    "\n",
    "    return gen_sequence\n",
    "\n",
    "class ScaledEmbedding(nn.Embedding):\n",
    "    def __init__(self, *args, lr=None, **kwargs):\n",
    "        super().__init__(*args, **kwargs)\n",
    "        self.lr = lr\n",
    "\n",
    "    def make_optim_group(self):\n",
    "        group = {\"params\": list(self.parameters())}\n",
    "        if self.lr is not None:\n",
    "            group[\"lr\"] = self.lr\n",
    "        return group\n",
    "\n",
    "\n",
    "def prep_input(sequence, pad_token=-1, embed_dim=1536, emb_lr=1.0):\n",
    "    device = sequence.device\n",
    "    B, K, S = sequence.shape\n",
    "    \n",
    "    # Adjust vocab_size to account for padding token and maximum value\n",
    "    vocab_size = sequence.max().item() + 1\n",
    "    print(f\"Adjusted vocab_size to {vocab_size}\")\n",
    "\n",
    "    emb = nn.ModuleList([ScaledEmbedding(vocab_size, embed_dim, padding_idx=pad_token, lr=emb_lr) for _ in range(K)]).to(device)\n",
    "\n",
    "    for k in range(K):\n",
    "        print(f\"Codebook {k}: shape {sequence[:, k].shape}, max {sequence[:, k].max()}, min {sequence[:, k].min()}\")\n",
    "\n",
    "    # Apply each embedding layer to its corresponding codebook and sum the results\n",
    "    embedded = []\n",
    "    for k in range(K):\n",
    "        try:\n",
    "            # Replace -1 with the last index in vocab (which will be mapped to zero vector due to padding_idx)\n",
    "            seq_k = torch.where(sequence[:, k] == pad_token, torch.tensor(vocab_size - 1, device=device), sequence[:, k])\n",
    "            emb_k = emb[k](seq_k)\n",
    "            print(f\"Embedding {k} shape: {emb_k.shape}\")\n",
    "            embedded.append(emb_k)\n",
    "        except Exception as e:\n",
    "            print(f\"Error in embedding {k}: {e}\")\n",
    "            print(f\"Unique values in sequence[:, {k}]: {torch.unique(sequence[:, k])}\")\n",
    "    \n",
    "    input_ = sum(embedded)\n",
    "    \n",
    "    print(f\"Input shape after embedding: {input_.shape}\")\n",
    "    return input_"
   ]
  },
  {
   "cell_type": "code",
   "execution_count": 14,
   "metadata": {},
   "outputs": [
    {
     "name": "stdout",
     "output_type": "stream",
     "text": [
      "gen_sequence shape: torch.Size([1, 4, 10004]), device: cuda:0\n",
      "Adjusted vocab_size to 2049\n",
      "Codebook 0: shape torch.Size([1, 10004]), max 2048, min -1\n",
      "Codebook 1: shape torch.Size([1, 10004]), max 2048, min -1\n",
      "Codebook 2: shape torch.Size([1, 10004]), max 2048, min -1\n",
      "Codebook 3: shape torch.Size([1, 10004]), max 2048, min -1\n",
      "Embedding 0 shape: torch.Size([1, 10004, 1536])\n",
      "Embedding 1 shape: torch.Size([1, 10004, 1536])\n",
      "Embedding 2 shape: torch.Size([1, 10004, 1536])\n",
      "Embedding 3 shape: torch.Size([1, 10004, 1536])\n",
      "Input shape after embedding: torch.Size([1, 10004, 1536])\n",
      "x shape after prep_input: torch.Size([1, 10004, 1536]), device: cuda:0\n",
      "<class 'torch.Tensor'>\n"
     ]
    },
    {
     "ename": "TypeError",
     "evalue": "'torch.Size' object is not callable",
     "output_type": "error",
     "traceback": [
      "\u001b[0;31m---------------------------------------------------------------------------\u001b[0m",
      "\u001b[0;31mTypeError\u001b[0m                                 Traceback (most recent call last)",
      "Cell \u001b[0;32mIn[14], line 23\u001b[0m\n\u001b[1;32m     21\u001b[0m \u001b[38;5;28;01mfor\u001b[39;00m layer \u001b[38;5;129;01min\u001b[39;00m model\u001b[38;5;241m.\u001b[39mlm\u001b[38;5;241m.\u001b[39mtransformer\u001b[38;5;241m.\u001b[39mlayers:\n\u001b[1;32m     22\u001b[0m     \u001b[38;5;28mprint\u001b[39m(\u001b[38;5;28mtype\u001b[39m(x))\n\u001b[0;32m---> 23\u001b[0m     \u001b[38;5;28mprint\u001b[39m(\u001b[43mx\u001b[49m\u001b[38;5;241;43m.\u001b[39;49m\u001b[43mshape\u001b[49m\u001b[43m(\u001b[49m\u001b[43m)\u001b[49m)\n\u001b[1;32m     24\u001b[0m     x \u001b[38;5;241m=\u001b[39m layer(x)\n\u001b[1;32m     26\u001b[0m \u001b[38;5;28;01mbreak\u001b[39;00m\n",
      "\u001b[0;31mTypeError\u001b[0m: 'torch.Size' object is not callable"
     ]
    }
   ],
   "source": [
    "import os\n",
    "from audiocraft.modules.conditioners import ConditioningAttributes\n",
    "import numpy as np\n",
    "\n",
    "blank_cond_attr = ConditioningAttributes()\n",
    "\n",
    "for file in os.listdir(data_path):\n",
    "    file = os.path.join(data_path, file)\n",
    "    waveform = preprocess_waveform(file)\n",
    "    codes, scale = model.compression_model.encode(waveform)\n",
    "    del waveform\n",
    "\n",
    "    # transform the codes so that they match the embedding dimension (1536)\n",
    "    gen_sequence = get_patterns(codes)\n",
    "\n",
    "    print(f\"gen_sequence shape: {gen_sequence.shape}, device: {gen_sequence.device}\")\n",
    "\n",
    "    x = prep_input(gen_sequence)\n",
    "    print(f\"x shape after prep_input: {x.shape}, device: {x.device}\")\n",
    "    \n",
    "    for layer in model.lm.transformer.layers:\n",
    "        print(type(x))\n",
    "        print(x.shape())\n",
    "        x = layer(x)\n",
    "  \n",
    "    break\n",
    "\n"
   ]
  },
  {
   "cell_type": "code",
   "execution_count": null,
   "metadata": {},
   "outputs": [],
   "source": []
  }
 ],
 "metadata": {
  "kernelspec": {
   "display_name": ".venv",
   "language": "python",
   "name": "python3"
  },
  "language_info": {
   "codemirror_mode": {
    "name": "ipython",
    "version": 3
   },
   "file_extension": ".py",
   "mimetype": "text/x-python",
   "name": "python",
   "nbconvert_exporter": "python",
   "pygments_lexer": "ipython3",
   "version": "3.9.19"
  }
 },
 "nbformat": 4,
 "nbformat_minor": 2
}
