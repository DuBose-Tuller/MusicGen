{
 "cells": [
  {
   "cell_type": "code",
   "execution_count": 6,
   "metadata": {},
   "outputs": [],
   "source": [
    "from sklearn.metrics import f1_score, recall_score, precision_score, confusion_matrix\n",
    "import numpy as np\n",
    "from sklearn.linear_model import LogisticRegression\n",
    "from sklearn.model_selection import train_test_split\n",
    "import json\n",
    "import os\n",
    "\n",
    "EMBEDDING_SIZE = 1536\n",
    "\n",
    "def process_json(file):\n",
    "    with open(file, \"r\") as f:\n",
    "        embeddings_dict = json.load(f)\n",
    "\n",
    "    embeddings = np.array(list(embeddings_dict.values()))\n",
    "    return embeddings\n",
    "\n",
    "    \n",
    "def construct_dataset(sources, verbose=False):\n",
    "    X_arrays = []\n",
    "    y_arrays = []\n",
    "    for (i, source) in enumerate(sources):\n",
    "        assert source in os.listdir()\n",
    "        embeddings = process_json(source)\n",
    "        labels = np.full((embeddings.shape[0],), i)\n",
    "        X_arrays.append(embeddings)\n",
    "        y_arrays.append(labels)\n",
    "\n",
    "    X = np.concatenate(X_arrays, axis=0)\n",
    "    y = np.concatenate(y_arrays, axis=None)\n",
    "\n",
    "    # X = np.empty((len(files), EMBEDDING_SIZE))\n",
    "    # y = np.full((len(files),), label)\n",
    "    # for i, file in enumerate(files):\n",
    "    #     print(file) if verbose else None\n",
    "    #     embedding = process_json(os.path.join(data_path, file))\n",
    "    #     X[i] = embedding\n",
    "\n",
    "    return X, y\n",
    "\n",
    "def multiclass_model(X, y):\n",
    "    X_train, X_test, y_train, y_test = train_test_split(X, y, test_size=0.2, random_state=42, stratify=y)\n",
    "    \n",
    "    # Increase max_iter and add scaling\n",
    "    from sklearn.preprocessing import StandardScaler\n",
    "    scaler = StandardScaler()\n",
    "    X_train_scaled = scaler.fit_transform(X_train)\n",
    "    X_test_scaled = scaler.transform(X_test)\n",
    "    \n",
    "    model = LogisticRegression(\n",
    "        class_weight='balanced',\n",
    "        max_iter=1000,  # Increase from default 100\n",
    "        tol=1e-4        # Optionally, adjust tolerance\n",
    "    ).fit(X_train_scaled, y_train)\n",
    "    \n",
    "    y_pred = model.predict(X_test_scaled)\n",
    "    matrix = confusion_matrix(y_test, y_pred)\n",
    "    \n",
    "    # Additional metrics\n",
    "    f1 = f1_score(y_test, y_pred, average='weighted')\n",
    "    recall = recall_score(y_test, y_pred, average='weighted')\n",
    "    precision = precision_score(y_test, y_pred, average='weighted')\n",
    "    \n",
    "    return matrix, f1, recall, precision, model"
   ]
  },
  {
   "cell_type": "code",
   "execution_count": null,
   "metadata": {},
   "outputs": [],
   "source": [
    "# X1, y1 = construct_dataset(\"ACPAS-processed\", 0)\n",
    "# X2, y2 = construct_dataset(\"CBF-trimmed\", 1)\n",
    "# X3, y3 = construct_dataset(\"birdsong-unique\", 2)\n",
    "\n",
    "sources = [\n",
    "    \"acpas-unique-trimmed-s30-t30-embeddings.json\",\n",
    "    \"CMR-trimmed-s30-t30-embeddings.json\"\n",
    "]\n",
    "\n",
    "X, y = construct_dataset(sources)\n",
    "print(y.shape)\n",
    "\n",
    "# X = np.concatenate((X1, X2, X3), axis=0)\n",
    "# y = np.concatenate((y1,y2, y3), axis=None)\n",
    "cm, f1, recall, precision, _ = multiclass_model(X, y)\n",
    "print(cm)"
   ]
  },
  {
   "cell_type": "code",
   "execution_count": null,
   "metadata": {},
   "outputs": [],
   "source": [
    "\n"
   ]
  }
 ],
 "metadata": {
  "kernelspec": {
   "display_name": ".venv",
   "language": "python",
   "name": "python3"
  },
  "language_info": {
   "codemirror_mode": {
    "name": "ipython",
    "version": 3
   },
   "file_extension": ".py",
   "mimetype": "text/x-python",
   "name": "python",
   "nbconvert_exporter": "python",
   "pygments_lexer": "ipython3",
   "version": "3.9.19"
  }
 },
 "nbformat": 4,
 "nbformat_minor": 2
}
