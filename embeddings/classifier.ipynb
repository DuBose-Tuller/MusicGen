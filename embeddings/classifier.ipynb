{
 "cells": [
  {
   "cell_type": "code",
   "execution_count": 1,
   "metadata": {},
   "outputs": [],
   "source": [
    "from sklearn.metrics import f1_score, recall_score, precision_score, confusion_matrix\n",
    "import numpy as np\n",
    "from sklearn.linear_model import LogisticRegression\n",
    "from sklearn.model_selection import train_test_split\n",
    "import json\n",
    "import os\n",
    "\n",
    "EMBEDDING_SIZE = 1536\n",
    "\n",
    "def process_json(file):\n",
    "    with open(file, \"r\") as f:\n",
    "        emb = np.squeeze(np.array(json.load(f))[0,:,:])\n",
    "        return emb\n",
    "    \n",
    "def construct_dataset(data_path, label, verbose=False):\n",
    "    files = os.listdir(data_path)\n",
    "\n",
    "    X = np.empty((len(files), EMBEDDING_SIZE))\n",
    "    y = np.full((len(files),), label)\n",
    "    for i, file in enumerate(files):\n",
    "        print(file) if verbose else None\n",
    "        embedding = process_json(os.path.join(data_path, file))\n",
    "        X[i] = embedding\n",
    "\n",
    "    return X, y\n",
    "\n",
    "def multiclass_model(X, y):\n",
    "    X_train, X_test, y_train, y_test = train_test_split(X, y, test_size=0.2, random_state=42, stratify=y)\n",
    "\n",
    "    model = LogisticRegression(class_weight='balanced').fit(X_train, y_train)\n",
    "    y_pred = model.predict(X_test)\n",
    "    matrix = confusion_matrix(y_test, y_pred)\n",
    "    return matrix"
   ]
  },
  {
   "cell_type": "code",
   "execution_count": 2,
   "metadata": {},
   "outputs": [
    {
     "ename": "TypeError",
     "evalue": "construct_dataset() missing 1 required positional argument: 'label'",
     "output_type": "error",
     "traceback": [
      "\u001b[0;31m---------------------------------------------------------------------------\u001b[0m",
      "\u001b[0;31mTypeError\u001b[0m                                 Traceback (most recent call last)",
      "Cell \u001b[0;32mIn[2], line 5\u001b[0m\n\u001b[1;32m      1\u001b[0m \u001b[38;5;66;03m# X1, y1 = construct_dataset(\"ACPAS-processed\", 0)\u001b[39;00m\n\u001b[1;32m      2\u001b[0m \u001b[38;5;66;03m# X2, y2 = construct_dataset(\"CBF-trimmed\", 1)\u001b[39;00m\n\u001b[1;32m      3\u001b[0m \u001b[38;5;66;03m# X3, y3 = construct_dataset(\"birdsong-unique\", 2)\u001b[39;00m\n\u001b[0;32m----> 5\u001b[0m x, y \u001b[38;5;241m=\u001b[39m \u001b[43mconstruct_dataset\u001b[49m\u001b[43m(\u001b[49m\u001b[38;5;124;43m\"\u001b[39;49m\u001b[38;5;124;43macpas-unique-trimmes-s30-t30-embeddings.json\u001b[39;49m\u001b[38;5;124;43m\"\u001b[39;49m\u001b[43m)\u001b[49m\n\u001b[1;32m      7\u001b[0m \u001b[38;5;66;03m# X = np.concatenate((X1, X2, X3), axis=0)\u001b[39;00m\n\u001b[1;32m      8\u001b[0m \u001b[38;5;66;03m# y = np.concatenate((y1,y2, y3), axis=None)\u001b[39;00m\n\u001b[1;32m      9\u001b[0m \u001b[38;5;66;03m# cm = multiclass_model(X, y)\u001b[39;00m\n",
      "\u001b[0;31mTypeError\u001b[0m: construct_dataset() missing 1 required positional argument: 'label'"
     ]
    }
   ],
   "source": [
    "# X1, y1 = construct_dataset(\"ACPAS-processed\", 0)\n",
    "# X2, y2 = construct_dataset(\"CBF-trimmed\", 1)\n",
    "# X3, y3 = construct_dataset(\"birdsong-unique\", 2)\n",
    "\n",
    "x, y = construct_dataset(\"acpas-unique-trimmes-s30-t30-embeddings.json\")\n",
    "\n",
    "# X = np.concatenate((X1, X2, X3), axis=0)\n",
    "# y = np.concatenate((y1,y2, y3), axis=None)\n",
    "# cm = multiclass_model(X, y)"
   ]
  },
  {
   "cell_type": "code",
   "execution_count": null,
   "metadata": {},
   "outputs": [],
   "source": [
    "\n"
   ]
  }
 ],
 "metadata": {
  "kernelspec": {
   "display_name": ".venv",
   "language": "python",
   "name": "python3"
  },
  "language_info": {
   "codemirror_mode": {
    "name": "ipython",
    "version": 3
   },
   "file_extension": ".py",
   "mimetype": "text/x-python",
   "name": "python",
   "nbconvert_exporter": "python",
   "pygments_lexer": "ipython3",
   "version": "3.9.19"
  }
 },
 "nbformat": 4,
 "nbformat_minor": 2
}
